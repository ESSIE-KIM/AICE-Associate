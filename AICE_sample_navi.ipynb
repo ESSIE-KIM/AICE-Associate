{
  "nbformat": 4,
  "nbformat_minor": 0,
  "metadata": {
    "colab": {
      "provenance": []
    },
    "kernelspec": {
      "name": "python3",
      "display_name": "Python 3"
    },
    "language_info": {
      "name": "python"
    }
  },
  "cells": [
    {
      "cell_type": "markdown",
      "source": [
        "###**내비게이션 주행데이터를 이용한 예측문제**\n",
        "\n",
        "- 내비게이션 주행데이터를 읽어들여 데이터를 분석 및 전처리한 후 머신러닝과 딥러닝으로 도착시간을 예측하고 결과를 분석하세요.\n",
        "\n",
        "[데이터 칼럼 설명(데이터 파일명:A00071T.json)]\n",
        "\n",
        "- Time_Departure : 출발시각\n",
        "- Time_Arrival : 도착시간"
      ],
      "metadata": {
        "id": "9i1Ugx0FeDZA"
      }
    },
    {
      "cell_type": "code",
      "source": [],
      "metadata": {
        "id": "GIs9M6uleC3d"
      },
      "execution_count": null,
      "outputs": []
    }
  ]
}